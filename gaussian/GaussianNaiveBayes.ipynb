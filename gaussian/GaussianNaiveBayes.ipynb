{
 "cells": [
  {
   "cell_type": "code",
   "execution_count": null,
   "id": "799f592b-75aa-41fc-a6cb-98c52ba49a19",
   "metadata": {},
   "outputs": [],
   "source": [
    "import numpy as np\n",
    "import pandas as pd\n",
    "import time"
   ]
  },
  {
   "cell_type": "code",
   "execution_count": null,
   "id": "6551e7f4-772b-4808-ac11-cad40e5deb6b",
   "metadata": {},
   "outputs": [],
   "source": [
    "data = pd.read_csv(\"weather_classification_data.csv\")\n",
    "\n",
    "for name in data.columns[0:len(data.columns)]:\n",
    "    unique_vals = data[f'{name}'].unique()\n",
    "    if len(unique_vals) < 10: # fazla tür olmadığını biliyorum\n",
    "        mapping = {val: idx for idx, val in enumerate(unique_vals)}\n",
    "        data[f'{name}'] = data[f'{name}'].map(mapping)\n",
    "\n"
   ]
  },
  {
   "cell_type": "code",
   "execution_count": null,
   "id": "0ff7565e-1990-4411-a695-8b69196b8759",
   "metadata": {},
   "outputs": [],
   "source": [
    "from sklearn.model_selection import train_test_split\n",
    "X = data.drop('Weather Type', axis=1).astype(np.float64)\n",
    "y = data.iloc[:, -1].astype(np.int64)\n",
    "X_train, X_test, y_train, y_test = train_test_split(X, y, test_size=0.2, random_state=1233)\n"
   ]
  },
  {
   "cell_type": "markdown",
   "id": "b2eadefc-d16e-4f29-ac14-3dec4be85ede",
   "metadata": {},
   "source": [
    "<h1>PYTHON İLE KENDIMİZ YAZALIM</h1>"
   ]
  },
  {
   "cell_type": "code",
   "execution_count": null,
   "id": "fa81d9fc-8039-40ec-ad5f-b76519d08d7d",
   "metadata": {},
   "outputs": [],
   "source": [
    "class Gaussian_NaiveBayes:\n",
    "\n",
    "    def fit(self,X,y):\n",
    "            \n",
    "        n_samples, n_features = X.shape #satır sütun sayılarını alalım\n",
    "        self._classes = np.unique(y)\n",
    "        n_classes = len(self._classes)\n",
    "\n",
    "        #Her sınıf için ortalama, varyans ve öncelik hesaplayalım\n",
    "        self._mean = np.zeros((n_classes,n_features), dtype=np.float64)\n",
    "        self._varience = np.zeros((n_classes,n_features), dtype=np.float64)\n",
    "        self._priors = np.zeros(n_classes, dtype=np.float64)\n",
    "\n",
    "        for idx, c in enumerate(self._classes):\n",
    "            X_class = X[y==c] # Her sınıfın verisiyle ayrı ayrı işlem yapmak için X_class değişkenini kullanıyoruz, \"y==c\" y dataframe'indeki c sınıfından olan satırları almamızı sağlar\n",
    "            self._mean[idx,:] = X_class.mean(axis=0) # Seçilen sütunun ortalaması alınır\n",
    "            self._varience[idx,:] = X_class.var(axis=0)\n",
    "            self._priors[idx] = X_class.shape[0]/float(n_samples) # Her sınıfın frekansı bulunur ve toplam örnek sayısına bölünür\n",
    "            \n",
    "    def predict(self, X):\n",
    "        y_pred = [self._predict(np.array(row[1:])) for row in X.itertuples()]\n",
    "        return np.array(y_pred)\n",
    "\n",
    "    def _predict(self, x):\n",
    "        posteriors = [] # Sonsal olasılık değerlerini tutmak için\n",
    "\n",
    "        # Her sınıf için sonsal olasılığı(posterior probablity) hesaplayalım\n",
    "        for idx, c in enumerate(self._classes):\n",
    "            prior = np.log(self._priors[idx])\n",
    "            posterior = np.sum(np.log(self._pdf(idx,x))) \n",
    "            posterior = posterior + prior  \n",
    "            posteriors.append(posterior)\n",
    "\n",
    "        # Sonsal olasılığı en büyük olan sınıfı döndür\n",
    "        return self._classes[np.argmax(posteriors)]\n",
    "        \n",
    "    def _pdf(self,class_idx,x): # Gaussian Probablity Density Function(Olasılık Yoğunluk Fonksiyonu) hesaplama\n",
    "         mean = self._mean[class_idx]\n",
    "         var = self._varience[class_idx]\n",
    "         numerator = np.exp(-(x-mean)**2 / (2 * var)) # formülün payı\n",
    "         denominator = np.sqrt(2*np.pi * var) # formülün paydası\n",
    "        \n",
    "         return numerator / denominator\n"
   ]
  },
  {
   "cell_type": "code",
   "execution_count": null,
   "id": "2b641866-cede-4f15-9bc2-c81f7947901e",
   "metadata": {},
   "outputs": [],
   "source": [
    "start_time = time.time()\n",
    "\n",
    "# Model eğitimi ve tahmin\n",
    "nb = Gaussian_NaiveBayes()\n",
    "nb.fit(X_train,y_train)\n",
    "predictions = nb.predict(X_test)\n",
    "\n",
    "end_time = time.time()\n",
    "net_zaman = end_time - start_time\n",
    "print(f\"Geçen zaman: {net_zaman:.4f} saniye\")"
   ]
  },
  {
   "cell_type": "code",
   "execution_count": null,
   "id": "b59e5bb8-0057-4026-9ae2-1ba56b014300",
   "metadata": {},
   "outputs": [],
   "source": [
    "# Confusion matrix hesaplama:\n",
    "cm = confusion_matrix(y_test, predictions)\n",
    "\n",
    "# Confusion matrix'i görselleştirme:\n",
    "plt.figure(figsize=(6, 5))\n",
    "plt.imshow(cm, interpolation='nearest', cmap=plt.cm.Blues)\n",
    "plt.title(\"Confusion Matrix\")\n",
    "plt.colorbar()\n",
    "\n",
    "# Sınıf etiketlerini belirleme\n",
    "classes = np.unique(y)\n",
    "tick_marks = np.arange(len(classes))\n",
    "plt.xticks(tick_marks, classes, rotation=45)\n",
    "plt.yticks(tick_marks, classes)\n",
    "\n",
    "# Her hücreyi annotasyon ekleyerek gösterme:\n",
    "thresh = cm.max() / 2.0\n",
    "for i in range(cm.shape[0]):\n",
    "    for j in range(cm.shape[1]):\n",
    "        plt.text(j, i, format(cm[i, j], 'd'),\n",
    "                 horizontalalignment=\"center\",\n",
    "                 color=\"white\" if cm[i, j] > thresh else \"black\")\n",
    "\n",
    "plt.ylabel('Gerçek Etiket')\n",
    "plt.xlabel('Tahmin Edilen Etiket')\n",
    "plt.tight_layout()\n",
    "plt.show()\n",
    "\n",
    "# Metrik hesaplamaları:\n",
    "accuracy = accuracy_score(y_test, predictions)\n",
    "# Çok sınıflı problemde recall ve f1 için average parametresi verilmeli.\n",
    "recall = recall_score(y_test, predictions, average='macro')\n",
    "f1 = f1_score(y_test, predictions, average='macro')\n",
    "\n",
    "print(\"Accuracy:\", accuracy)\n",
    "print(\"Recall:\", recall)\n",
    "print(\"F1 Score:\", f1)"
   ]
  }
 ],
 "metadata": {
  "kernelspec": {
   "display_name": "Python 3 (ipykernel)",
   "language": "python",
   "name": "python3"
  },
  "language_info": {
   "codemirror_mode": {
    "name": "ipython",
    "version": 3
   },
   "file_extension": ".py",
   "mimetype": "text/x-python",
   "name": "python",
   "nbconvert_exporter": "python",
   "pygments_lexer": "ipython3",
   "version": "3.12.7"
  }
 },
 "nbformat": 4,
 "nbformat_minor": 5
}
